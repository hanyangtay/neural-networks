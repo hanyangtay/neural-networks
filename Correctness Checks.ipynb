{
 "cells": [
  {
   "cell_type": "code",
   "execution_count": 1,
   "metadata": {
    "collapsed": false
   },
   "outputs": [
    {
     "name": "stdout",
     "output_type": "stream",
     "text": [
      "W1 max relative error: 4.464961e-07\n",
      "W2 max relative error: 1.492859e-03\n",
      "W3 max relative error: 9.637029e-09\n",
      "W4 max relative error: 2.277401e-08\n",
      "b1 max relative error: 1.121472e-10\n",
      "b2 max relative error: 2.168404e-11\n",
      "b3 max relative error: 3.469447e-10\n",
      "b4 max relative error: 8.590576e-10\n",
      "beta1 max relative error: 9.431212e-06\n",
      "beta2 max relative error: 9.099657e-06\n",
      "beta3 max relative error: 1.328389e-06\n",
      "gamma1 max relative error: 8.731995e-06\n",
      "gamma2 max relative error: 7.801547e-06\n",
      "gamma3 max relative error: 1.703544e-05\n"
     ]
    }
   ],
   "source": [
    "from neural_networks.classifiers.cnn import OptimalConvNet\n",
    "from neural_networks import *\n",
    "from gradient_check import *\n",
    "from neural_networks.layers import *\n",
    "from neural_networks.layer_utils import *\n",
    "def rel_error(x, y):\n",
    "  \"\"\" returns relative error \"\"\"\n",
    "  return np.max(np.abs(x - y) / (np.maximum(1e-8, np.abs(x) + np.abs(y))))\n",
    "\n",
    "num_inputs = 2\n",
    "input_dim = (3, 12, 12)\n",
    "reg = 0.0\n",
    "num_classes = 10\n",
    "X = np.random.randn(num_inputs, *input_dim)\n",
    "y = np.random.randint(num_classes, size=num_inputs)\n",
    "\n",
    "model = OptimalConvNet(input_dim=input_dim,\n",
    "                     dtype=np.float64,\n",
    "                     num_filters = [3],\n",
    "                     hidden_dims = [3,3],use_batchnorm = True)\n",
    "loss, grads = model.loss(X, y)\n",
    "for param_name in sorted(grads):\n",
    "    f = lambda _: model.loss(X, y)[0]\n",
    "    param_grad_num = eval_numerical_gradient(f, model.params[param_name], verbose=False, h=1e-6)\n",
    "    e = rel_error(param_grad_num, grads[param_name])\n",
    "    print '%s max relative error: %e' % (param_name, rel_error(param_grad_num, grads[param_name]))\n"
   ]
  },
  {
   "cell_type": "code",
   "execution_count": 2,
   "metadata": {
    "collapsed": false
   },
   "outputs": [
    {
     "name": "stdout",
     "output_type": "stream",
     "text": [
      "Testing conv_bn_relu_pool:\n",
      "dx error:  8.61709515363e-08\n",
      "dw error:  4.48232427558e-09\n",
      "db error:  0.0075291240414\n",
      "dbeta error:  1.36258207223e-11\n",
      "dgamma error:  6.39276082279e-12\n"
     ]
    }
   ],
   "source": [
    "x = np.random.randn(2, 3, 8, 8)\n",
    "w = np.random.randn(3, 3, 3, 3)\n",
    "b = np.random.randn(3,)\n",
    "dout = np.random.randn(2, 3, 4, 4)\n",
    "gamma = np.random.randn(3)\n",
    "beta = np.random.randn(3)\n",
    "\n",
    "bn_param = {'mode': 'train',}\n",
    "conv_param = {'stride': 1, 'pad': 1}\n",
    "pool_param = {'stride': 2, 'pool_height': 2, 'pool_width': 2}\n",
    "\n",
    "_, cache = conv_bn_relu_pool_forward(x, w, b, conv_param, bn_param, gamma, beta, pool_param)\n",
    "dx, dw, db, dgamma, dbeta = conv_bn_relu_pool_backward(dout, cache)\n",
    "\n",
    "dx_num = eval_numerical_gradient_array(lambda x: conv_bn_relu_pool_forward(x, w, b, conv_param, bn_param, gamma, beta, pool_param)[0], x, dout)\n",
    "dw_num = eval_numerical_gradient_array(lambda w: conv_bn_relu_pool_forward(x, w, b, conv_param, bn_param, gamma, beta, pool_param)[0], w, dout)\n",
    "db_num = eval_numerical_gradient_array(lambda b: conv_bn_relu_pool_forward(x, w, b, conv_param, bn_param, gamma, beta, pool_param)[0], b, dout)\n",
    "dgamma_num = eval_numerical_gradient_array(lambda gamma: conv_bn_relu_pool_forward(x, w, b, conv_param, bn_param, gamma, beta, pool_param)[0], gamma, dout)\n",
    "dbeta_num = eval_numerical_gradient_array(lambda beta: conv_bn_relu_pool_forward(x, w, b, conv_param, bn_param, gamma, beta, pool_param)[0], beta, dout)\n",
    "\n",
    "\n",
    "print 'Testing conv_bn_relu_pool:'\n",
    "print 'dx error: ', rel_error(dx_num, dx)\n",
    "print 'dw error: ', rel_error(dw_num, dw)\n",
    "print 'db error: ', rel_error(db_num, db)\n",
    "print 'dbeta error: ', rel_error(dbeta_num, dbeta)\n",
    "print 'dgamma error: ', rel_error(dgamma_num, dgamma)"
   ]
  },
  {
   "cell_type": "code",
   "execution_count": null,
   "metadata": {
    "collapsed": true
   },
   "outputs": [],
   "source": []
  }
 ],
 "metadata": {
  "kernelspec": {
   "display_name": "Python 3",
   "language": "python",
   "name": "python3"
  },
  "language_info": {
   "codemirror_mode": {
    "name": "ipython",
    "version": 2
   },
   "file_extension": ".py",
   "mimetype": "text/x-python",
   "name": "python",
   "nbconvert_exporter": "python",
   "pygments_lexer": "ipython2",
   "version": "2.7.13"
  }
 },
 "nbformat": 4,
 "nbformat_minor": 2
}
